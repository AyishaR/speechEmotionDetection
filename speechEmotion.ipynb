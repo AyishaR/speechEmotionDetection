{
  "nbformat": 4,
  "nbformat_minor": 0,
  "metadata": {
    "colab": {
      "name": "speechEmotion.ipynb",
      "provenance": []
    },
    "kernelspec": {
      "display_name": "Python 3",
      "language": "python",
      "name": "python3"
    },
    "language_info": {
      "codemirror_mode": {
        "name": "ipython",
        "version": 3
      },
      "file_extension": ".py",
      "mimetype": "text/x-python",
      "name": "python",
      "nbconvert_exporter": "python",
      "pygments_lexer": "ipython3",
      "version": "3.7.3"
    },
    "accelerator": "GPU"
  },
  "cells": [
    {
      "cell_type": "markdown",
      "metadata": {
        "id": "WfbHQecPiQc6"
      },
      "source": [
        "![](https://images.unsplash.com/photo-1585507252242-11fe632c26e8?ixlib=rb-1.2.1&ixid=eyJhcHBfaWQiOjEyMDd9&auto=format&fit=crop&w=700&q=60)"
      ]
    },
    {
      "cell_type": "markdown",
      "metadata": {
        "id": "i1QCtnbuiURH"
      },
      "source": [
        "# Speech emotion Recognition\n",
        "\n",
        "This notebook aims to recognize the emotion of the person from an audio sample they have recorded.\n",
        "\n",
        "**Dataset**: The Ryerson Audio-Visual Database of Emotional Speech and Song (RAVDESS)\" by Livingstone & Russo is licensed under CC BY-NA-SC 4.0."
      ]
    },
    {
      "cell_type": "code",
      "metadata": {
        "id": "DCVGbbrhAq5A",
        "outputId": "effe6309-b395-4ef6-a2e9-260cbbccb8e0",
        "colab": {
          "base_uri": "https://localhost:8080/",
          "height": 33
        }
      },
      "source": [
        "from google.colab import drive\n",
        "drive.mount('/content/drive')"
      ],
      "execution_count": null,
      "outputs": [
        {
          "output_type": "stream",
          "text": [
            "Mounted at /content/drive\n"
          ],
          "name": "stdout"
        }
      ]
    },
    {
      "cell_type": "code",
      "metadata": {
        "execution": {
          "iopub.execute_input": "2020-09-27T05:14:41.105906Z",
          "iopub.status.busy": "2020-09-27T05:14:41.105648Z",
          "iopub.status.idle": "2020-09-27T05:14:41.126621Z",
          "shell.execute_reply": "2020-09-27T05:14:41.125642Z",
          "shell.execute_reply.started": "2020-09-27T05:14:41.105880Z"
        },
        "id": "JeyvurZEBG3U"
      },
      "source": [
        "import torch\n",
        "import csv\n",
        "import os\n",
        "import numpy as np\n",
        "import librosa\n",
        "import matplotlib.pyplot as plt\n",
        "from PIL import Image\n",
        "from librosa.display import specshow\n",
        "from tqdm.notebook import tqdm\n",
        "from sklearn.preprocessing import normalize, MinMaxScaler\n",
        "from torch.utils.data import Dataset, random_split, DataLoader, TensorDataset\n",
        "import torch.nn as nn\n",
        "import torch.nn.functional as F\n",
        "import torchvision.transforms as transforms\n",
        "from sklearn.metrics import f1_score\n",
        "import pandas as pd\n",
        "import torchvision.models as models\n",
        "from torch.optim.lr_scheduler import OneCycleLR \n",
        "import torch.onnx"
      ],
      "execution_count": null,
      "outputs": []
    },
    {
      "cell_type": "markdown",
      "metadata": {
        "id": "VXfm-olrxkXO"
      },
      "source": [
        "The full dataset has audio, video and song samples. The dataset used is a subset of the above as we will be using only the audio samples.\n",
        "\n",
        "This portion has 1440 files - 60 recordings each by 24 actors (12 male and 12 female). The actors vocalize two sentences.\n",
        "\n",
        "The filename has & numerical parts.\n",
        "* Modality\n",
        "* Vocal channel\n",
        "* Emotion\n",
        "* Emotional intensity\n",
        "* Statement\n",
        "* Repetition\n",
        "* Actor (odd - male; even - female)\n",
        "\n",
        "Map of the numerical parts to the actual values."
      ]
    },
    {
      "cell_type": "code",
      "metadata": {
        "execution": {
          "iopub.execute_input": "2020-09-27T04:49:19.164030Z",
          "iopub.status.busy": "2020-09-27T04:49:19.163781Z",
          "iopub.status.idle": "2020-09-27T04:49:19.169863Z",
          "shell.execute_reply": "2020-09-27T04:49:19.169240Z",
          "shell.execute_reply.started": "2020-09-27T04:49:19.164004Z"
        },
        "id": "92MM9lKaFKVX"
      },
      "source": [
        "modality = ['', 'full-AV', 'video-only', 'audio-only']\n",
        "vocal_channel = ['', 'speech', 'song']\n",
        "emotion = ['', 'neutral', 'calm', 'happy', 'sad', 'angry', 'fearful', 'disgust', 'surprised']\n",
        "emotional_intensity = ['', 'normal', 'strong']\n",
        "statement = ['', 'Kids are talking by the door', 'Dogs are sitting by the door']\n",
        "repetition = ['','first', 'second']\n",
        "gender = ['female', 'male']"
      ],
      "execution_count": null,
      "outputs": []
    },
    {
      "cell_type": "markdown",
      "metadata": {
        "id": "v1ovRG1dxsmg"
      },
      "source": [
        "# Data extraction\n",
        "\n",
        "This is a one-time execution process to extract characteristics and mel spectogram images of the samples.\n",
        "\n",
        "The characteristics are saves to a csv file along wiht extracted mfccs values.\n",
        "\n",
        "The images are be saved to the drive to be used later."
      ]
    },
    {
      "cell_type": "code",
      "metadata": {
        "id": "1wWK23pinaxw"
      },
      "source": [
        "'''\n",
        "\n",
        "csvfile = open(\"SpeechEmotion.csv\", \"w\")\n",
        "csvwriter = csv.writer(csvfile)\n",
        "csvwriter.writerow(np.concatenate((['Filename'], [i for i in range(1, 21)], ['modality','vocal_channel','emotion', 'emotional_intensity','statement','repetition','gender'])))\n",
        "\n",
        "def extract_features(actor, files):\n",
        "    for filename in tqdm.tqdm(files):\n",
        "        data, sr = librosa.load('/content/drive/My Drive/Dataset/speechEmotion/'+ actor + '/' + filename)\n",
        "        mfccs = np.mean(librosa.feature.mfcc(y = data, sr=sr).T, axis = 0)\n",
        "        #print(mfccs.shape)\n",
        "        row = np.concatenate(( ['_'.join([actor, filename])], mfccs, [modality[int(filename[1])], \n",
        "                                                                      vocal_channel[int(filename[4])], \n",
        "                                                                      emotion[int(filename[7])], \n",
        "                                                                      emotional_intensity[int(filename[10])], \n",
        "                                                                      statement[int(filename[13])], \n",
        "                                                                      repetition[int(filename[16])], \n",
        "                                                                      gender[int(actor[6:])%2] ] ))\n",
        "        csvwriter.writerow(row)\n",
        "        \n",
        "        fig = plt.figure(figsize=[1,1])\n",
        "        ax = fig.add_subplot(111)\n",
        "        ax.axes.get_xaxis().set_visible(False)\n",
        "        ax.axes.get_yaxis().set_visible(False)\n",
        "        ax.set_frame_on(False)\n",
        "        \n",
        "        S = librosa.feature.melspectrogram(y=data, sr=sr)\n",
        "        librosa.display.specshow(librosa.power_to_db(S, ref=np.max), x_axis='time', y_axis='mel', fmin=50, fmax=280)\n",
        "        file  = '/content/drive/My Drive/Dataset/speechEmotion/speechEmotionInages/mel/'+actor+'_' + filename[:-4] + '.jpg'\n",
        "        plt.savefig(file, dpi=500, bbox_inches='tight',pad_inches=0)\n",
        "\n",
        "        plt.close()\n",
        "\n",
        "        fig = plt.figure(figsize=[1,1])\n",
        "        ax = fig.add_subplot(111)\n",
        "        ax.axes.get_xaxis().set_visible(False)\n",
        "        ax.axes.get_yaxis().set_visible(False)\n",
        "        ax.set_frame_on(False)\n",
        "        mfccs = librosa.feature.mfcc(y = data, sr=sr)\n",
        "        librosa.display.specshow(mfccs, sr=sr, x_axis='time')\n",
        "        file  = '/content/drive/My Drive/Dataset/speechEmotion/speechEmotionImages/stft/'+actor+'_' + filename[:-4] + '.jpg'\n",
        "        plt.savefig(file, dpi=500, bbox_inches='tight',pad_inches=0)\n",
        "\n",
        "        plt.close()\n",
        "\n",
        "        fig = plt.figure(figsize=[1,1])\n",
        "        ax = fig.add_subplot(111)\n",
        "        ax.axes.get_xaxis().set_visible(False)\n",
        "        ax.axes.get_yaxis().set_visible(False)\n",
        "        ax.set_frame_on(False)\n",
        "        mfccs = sklearn.preprocessing.scale(mfccs, axis = 1)\n",
        "        librosa.display.specshow(mfccs, sr=sr, x_axis='time')\n",
        "        file  = '/content/drive/My Drive/Dataset/speechEmotion/speechEmotionImages/stft_std/'+actor+'_' + filename[:-4] + '.jpg'\n",
        "        plt.savefig(file, dpi=500, bbox_inches='tight',pad_inches=0)\n",
        "\n",
        "        plt.close()\n",
        "\n",
        "for i in range(1, 25):\n",
        "    a = 'Actor_'+'0'*(len(str(i))%2) + str(i)\n",
        "    c = os.listdir('/content/drive/My Drive/Dataset/speechEmotion/'+ a)\n",
        "    print('\\n', a, len(c))\n",
        "    extract_features(a, c)\n",
        "    print('End\\n')\n",
        "\n",
        "csvfile.close()\n",
        "\n",
        "'''"
      ],
      "execution_count": null,
      "outputs": []
    },
    {
      "cell_type": "markdown",
      "metadata": {
        "id": "ybKT-meskxYl"
      },
      "source": [
        "# Creating a dataset\n"
      ]
    },
    {
      "cell_type": "markdown",
      "metadata": {
        "id": "7z0ngt7tAFQr"
      },
      "source": [
        "The csv file used in the notebook contains the extracted information.\n",
        "\n",
        "The below link points to the extracted mel spectogram images zip file."
      ]
    },
    {
      "cell_type": "code",
      "metadata": {
        "execution": {
          "iopub.execute_input": "2020-09-27T04:46:28.208977Z",
          "iopub.status.busy": "2020-09-27T04:46:28.208494Z",
          "iopub.status.idle": "2020-09-27T04:46:29.087539Z",
          "shell.execute_reply": "2020-09-27T04:46:29.086845Z",
          "shell.execute_reply.started": "2020-09-27T04:46:28.208949Z"
        },
        "id": "wO-JOSup1knb",
        "outputId": "e475f415-2cb0-4356-d1cc-cb6b1d5cc101",
        "colab": {
          "base_uri": "https://localhost:8080/",
          "height": 147
        }
      },
      "source": [
        "!wget 'https://cainvas-static.s3.amazonaws.com/media/user_data/AyishaR0/speechEmotionMel.zip'"
      ],
      "execution_count": null,
      "outputs": [
        {
          "output_type": "stream",
          "text": [
            "--2020-09-27 10:20:55--  https://cainvas-static.s3.amazonaws.com/media/user_data/AyishaR0/speechEmotionMel.zip\n",
            "Resolving cainvas-static.s3.amazonaws.com (cainvas-static.s3.amazonaws.com)... 52.219.62.68\n",
            "Connecting to cainvas-static.s3.amazonaws.com (cainvas-static.s3.amazonaws.com)|52.219.62.68|:443... connected.\n",
            "HTTP request sent, awaiting response... 200 OK\n",
            "Length: 67843351 (65M) [application/x-zip-compressed]\n",
            "Saving to: ‘speechEmotionMel.zip.1’\n",
            "\n",
            "speechEmotionMel.zi  24%[===>                ]  15.90M  5.65MB/s               ^C\n"
          ],
          "name": "stdout"
        }
      ]
    },
    {
      "cell_type": "code",
      "metadata": {
        "execution": {
          "iopub.execute_input": "2020-09-27T04:47:09.098662Z",
          "iopub.status.busy": "2020-09-27T04:47:09.098412Z",
          "iopub.status.idle": "2020-09-27T04:47:09.829972Z",
          "shell.execute_reply": "2020-09-27T04:47:09.828960Z",
          "shell.execute_reply.started": "2020-09-27T04:47:09.098635Z"
        },
        "id": "4sjx_CVsAFQ2",
        "outputId": "370e220f-7a83-4287-962e-eee3752dd6bb",
        "colab": {
          "base_uri": "https://localhost:8080/",
          "height": 131
        }
      },
      "source": [
        "!unzip 'speechEmotionMel.zip'"
      ],
      "execution_count": null,
      "outputs": [
        {
          "output_type": "stream",
          "text": [
            "Archive:  speechEmotionMel.zip\n",
            "  End-of-central-directory signature not found.  Either this file is not\n",
            "  a zipfile, or it constitutes one disk of a multi-part archive.  In the\n",
            "  latter case the central directory and zipfile comment will be found on\n",
            "  the last disk(s) of this archive.\n",
            "unzip:  cannot find zipfile directory in one of speechEmotionMel.zip or\n",
            "        speechEmotionMel.zip.zip, and cannot find speechEmotionMel.zip.ZIP, period.\n"
          ],
          "name": "stdout"
        }
      ]
    },
    {
      "cell_type": "code",
      "metadata": {
        "execution": {
          "iopub.execute_input": "2020-09-27T04:49:41.144215Z",
          "iopub.status.busy": "2020-09-27T04:49:41.143977Z",
          "iopub.status.idle": "2020-09-27T04:49:41.152372Z",
          "shell.execute_reply": "2020-09-27T04:49:41.151581Z",
          "shell.execute_reply.started": "2020-09-27T04:49:41.144190Z"
        },
        "id": "1pX3IrSCe_f0"
      },
      "source": [
        "class SpeechEmotion(Dataset):\n",
        "    def __init__(self, file = None, rootdir = None, transform = None):\n",
        "        self.df = pd.read_csv(file)\n",
        "        self.rootdir = rootdir\n",
        "        self.transform = transform\n",
        "\n",
        "    def __len__(self):\n",
        "        return len(self.df)\n",
        "\n",
        "    def __getitem__(self, i):\n",
        "        row = self.df.loc[i]\n",
        "        fname, label = row['Filename'], row['emotion']\n",
        "        ik = self.rootdir+fname[:-4]+'.jpg'\n",
        "        img = Image.open(ik)\n",
        "        if self.transform:\n",
        "            img = self.transform(img)\n",
        "        return img, torch.tensor(emotion.index(label)) \n",
        "    \n",
        "    def getsr(self, i):\n",
        "        row = self.df.loc[i]\n",
        "        fname, label = row['Filename'], row['emotion']\n",
        "        _, sr = librosa.load(self.rootdir+fname)\n",
        "        return sr"
      ],
      "execution_count": null,
      "outputs": []
    },
    {
      "cell_type": "markdown",
      "metadata": {
        "id": "OfpODzeNrKLc"
      },
      "source": [
        "## Device selection"
      ]
    },
    {
      "cell_type": "code",
      "metadata": {
        "execution": {
          "iopub.execute_input": "2020-09-27T04:50:19.693200Z",
          "iopub.status.busy": "2020-09-27T04:50:19.692812Z",
          "iopub.status.idle": "2020-09-27T04:50:19.700246Z",
          "shell.execute_reply": "2020-09-27T04:50:19.699320Z",
          "shell.execute_reply.started": "2020-09-27T04:50:19.693173Z"
        },
        "id": "n4uyr7kArOhz"
      },
      "source": [
        "def get_default_device():\n",
        "    if torch.cuda.is_available():\n",
        "        return torch.device('cuda')\n",
        "    else:\n",
        "        return torch.device('cpu')\n",
        "    \n",
        "def to_device(data, device):\n",
        "    if isinstance(data, (list,tuple)):\n",
        "        return [to_device(x, device) for x in data]\n",
        "    return data.to(device, non_blocking=True)\n",
        "\n",
        "class DeviceDataLoader():\n",
        "    def __init__(self, dl, device):\n",
        "        self.dl = dl\n",
        "        self.device = device\n",
        "        \n",
        "    def __iter__(self):\n",
        "        for b in self.dl: \n",
        "            yield to_device(b, self.device)\n",
        "\n",
        "    def __len__(self):\n",
        "        return len(self.dl)"
      ],
      "execution_count": null,
      "outputs": []
    },
    {
      "cell_type": "code",
      "metadata": {
        "execution": {
          "iopub.execute_input": "2020-09-27T04:50:20.692577Z",
          "iopub.status.busy": "2020-09-27T04:50:20.692335Z",
          "iopub.status.idle": "2020-09-27T04:50:20.698058Z",
          "shell.execute_reply": "2020-09-27T04:50:20.697163Z",
          "shell.execute_reply.started": "2020-09-27T04:50:20.692551Z"
        },
        "id": "dkphZ6dYrT3U",
        "outputId": "bfcf4dac-38b1-4700-9d38-8f52426090c7",
        "colab": {
          "base_uri": "https://localhost:8080/",
          "height": 33
        }
      },
      "source": [
        "device = get_default_device()\n",
        "device"
      ],
      "execution_count": null,
      "outputs": [
        {
          "output_type": "execute_result",
          "data": {
            "text/plain": [
              "device(type='cuda')"
            ]
          },
          "metadata": {
            "tags": []
          },
          "execution_count": 6
        }
      ]
    },
    {
      "cell_type": "markdown",
      "metadata": {
        "id": "ZEDQhSX4xU4x"
      },
      "source": [
        "# Building the model"
      ]
    },
    {
      "cell_type": "code",
      "metadata": {
        "execution": {
          "iopub.execute_input": "2020-09-27T04:50:26.336335Z",
          "iopub.status.busy": "2020-09-27T04:50:26.336096Z",
          "iopub.status.idle": "2020-09-27T04:50:26.344046Z",
          "shell.execute_reply": "2020-09-27T04:50:26.343426Z",
          "shell.execute_reply.started": "2020-09-27T04:50:26.336309Z"
        },
        "id": "9p4Z16Qz6CWn"
      },
      "source": [
        "class SpeechEmotionModel(nn.Module):\n",
        "    def __init__(self):\n",
        "        super().__init__()\n",
        "        self.network = models.resnet18(pretrained=True)\n",
        "        num_ftrs = self.network.fc.in_features\n",
        "        self.network.fc = nn.Linear(num_ftrs, len(emotion))\n",
        "    \n",
        "    def forward(self, xb):\n",
        "        return torch.sigmoid(self.network(xb))\n",
        "    \n",
        "    def training_step(self, batch):\n",
        "        images, labels = batch\n",
        "        out = self(images)\n",
        "        loss = F.cross_entropy(out, labels)\n",
        "        return loss\n",
        " \n",
        "    def validation_step(self, batch):\n",
        "        images, labels = batch\n",
        "        out = self(images)\n",
        "        loss = F.cross_entropy(out, labels)\n",
        "        _, pred = torch.max(out, 1)\n",
        "        accuracy = torch.tensor(torch.sum(pred==labels).item()/len(pred))\n",
        "        return [loss.detach(), accuracy.detach()]"
      ],
      "execution_count": null,
      "outputs": []
    },
    {
      "cell_type": "markdown",
      "metadata": {
        "id": "Ee7JJaJWxLlN"
      },
      "source": [
        "## Fit and evaluate methods"
      ]
    },
    {
      "cell_type": "code",
      "metadata": {
        "execution": {
          "iopub.execute_input": "2020-09-27T05:12:14.948650Z",
          "iopub.status.busy": "2020-09-27T05:12:14.948360Z",
          "iopub.status.idle": "2020-09-27T05:12:14.956209Z",
          "shell.execute_reply": "2020-09-27T05:12:14.955300Z",
          "shell.execute_reply.started": "2020-09-27T05:12:14.948621Z"
        },
        "id": "H5c_5HfxrqfP"
      },
      "source": [
        "def fit(model, train_loader, val_loader, epochs, lr, optimizer_function = torch.optim.Adam):\n",
        "    history = []\n",
        "    optimizer = optimizer_function(model.parameters(), lr)\n",
        "    \n",
        "    for epoch in range(epochs):\n",
        "        print(\"Epoch \", epoch)\n",
        "        #Train\n",
        "        model.train()\n",
        "        lrs = []\n",
        "        for batch in train_loader:\n",
        "            loss = model.training_step(batch)\n",
        "            loss.backward()\n",
        "            optimizer.step()\n",
        "            optimizer.zero_grad()\n",
        " \n",
        "        #Validate\n",
        "        result = evaluate(model, val_loader)\n",
        "        print(\"loss: \", result[\"loss\"], \"accuracy: \", result[\"accuracy\"], \"\\n\")\n",
        "    \n",
        "        history.append(result)         \n",
        "    return history"
      ],
      "execution_count": null,
      "outputs": []
    },
    {
      "cell_type": "code",
      "metadata": {
        "execution": {
          "iopub.execute_input": "2020-09-27T04:50:27.692516Z",
          "iopub.status.busy": "2020-09-27T04:50:27.692276Z",
          "iopub.status.idle": "2020-09-27T04:50:27.697623Z",
          "shell.execute_reply": "2020-09-27T04:50:27.696757Z",
          "shell.execute_reply.started": "2020-09-27T04:50:27.692490Z"
        },
        "id": "bEUFAvj_rYtT"
      },
      "source": [
        "def evaluate(model, loader):\n",
        "    model.eval()\n",
        "    outputs = [model.validation_step(batch) for batch in loader]\n",
        "    outputs = torch.tensor(outputs).T\n",
        "    loss, accuracy = torch.mean(outputs, dim=1)\n",
        "    return {\"loss\" : loss.item(), \"accuracy\" : accuracy.item()}"
      ],
      "execution_count": null,
      "outputs": []
    },
    {
      "cell_type": "code",
      "metadata": {
        "id": "0qJLWJ9OsMA8"
      },
      "source": [
        "@torch.no_grad()\n",
        "def predict_dl(model, dl):\n",
        "    torch.cuda.empty_cache()\n",
        "    batch_probs = []\n",
        "    batch_targ = []\n",
        "    for xb, yb in dl:\n",
        "        probs = model(xb)\n",
        "        batch_probs.append(probs.cpu().detach())\n",
        "        batch_targ.append(yb.cpu().detach())\n",
        "    batch_probs = torch.cat(batch_probs)\n",
        "    batch_targ = torch.cat(batch_targ)\n",
        "    return [list(values).index(max(values)) for values in batch_probs], batch_targ"
      ],
      "execution_count": null,
      "outputs": []
    },
    {
      "cell_type": "markdown",
      "metadata": {
        "id": "06R8QNto2QdN"
      },
      "source": [
        "# Mel spectogram images - CNN"
      ]
    },
    {
      "cell_type": "markdown",
      "metadata": {
        "id": "vfuynuxHrapK"
      },
      "source": [
        "## Training"
      ]
    },
    {
      "cell_type": "code",
      "metadata": {
        "id": "qDiiSZ2yhjNd"
      },
      "source": [
        "speech_dset = SpeechEmotion('https://cainvas-static.s3.amazonaws.com/media/user_data/AyishaR0/SpeechEmotion.csv', 'speechEmotionImages/mel/', transforms.Compose([transforms.ToTensor()]))"
      ],
      "execution_count": null,
      "outputs": []
    },
    {
      "cell_type": "code",
      "metadata": {
        "id": "atSG8pM9hmoR",
        "outputId": "6ae0441c-3666-4307-f3fd-f973ef5aa822",
        "colab": {
          "base_uri": "https://localhost:8080/",
          "height": 33
        }
      },
      "source": [
        "size = len(speech_dset)\n",
        "test_size = val_size = int(0.1 * size)\n",
        "train_size = size - val_size - test_size\n",
        "\n",
        "train_dset, val_dset, test_dset = random_split(speech_dset, [train_size, val_size, test_size])\n",
        "\n",
        "print(train_size, val_size, test_size)\n",
        "\n",
        "train_dl = DataLoader(train_dset, 16, True, num_workers=6, pin_memory=True)\n",
        "val_dl = DataLoader(val_dset, 16, num_workers=6, pin_memory=True)\n",
        "test_dl = DataLoader(test_dset, 16, num_workers = 6)\n",
        "\n",
        "train_dl = DeviceDataLoader(train_dl, device)\n",
        "val_dl = DeviceDataLoader(val_dl, device)\n",
        "test_dl = DeviceDataLoader(test_dl, device)"
      ],
      "execution_count": null,
      "outputs": [
        {
          "output_type": "stream",
          "text": [
            "1152 144 144\n"
          ],
          "name": "stdout"
        }
      ]
    },
    {
      "cell_type": "code",
      "metadata": {
        "execution": {
          "iopub.execute_input": "2020-09-27T04:50:31.984763Z",
          "iopub.status.busy": "2020-09-27T04:50:31.984263Z",
          "iopub.status.idle": "2020-09-27T04:50:55.638432Z",
          "shell.execute_reply": "2020-09-27T04:50:55.637645Z",
          "shell.execute_reply.started": "2020-09-27T04:50:31.984735Z"
        },
        "id": "3jMWt4h2r_k7",
        "outputId": "e18de9ef-c0d7-4bea-ea33-98aef370e30d",
        "colab": {
          "base_uri": "https://localhost:8080/",
          "height": 33
        }
      },
      "source": [
        "model = to_device(SpeechEmotionModel(), device)\n",
        "history = []\n",
        "evaluate(model, val_dl)"
      ],
      "execution_count": null,
      "outputs": [
        {
          "output_type": "execute_result",
          "data": {
            "text/plain": [
              "{'accuracy': 0.1111111119389534, 'loss': 2.2164392471313477}"
            ]
          },
          "metadata": {
            "tags": []
          },
          "execution_count": 13
        }
      ]
    },
    {
      "cell_type": "code",
      "metadata": {
        "execution": {
          "iopub.execute_input": "2020-09-27T04:50:55.650523Z",
          "iopub.status.busy": "2020-09-27T04:50:55.650233Z",
          "iopub.status.idle": "2020-09-27T04:50:55.655311Z",
          "shell.execute_reply": "2020-09-27T04:50:55.654532Z",
          "shell.execute_reply.started": "2020-09-27T04:50:55.650487Z"
        },
        "id": "IRjmkYM0sCnl"
      },
      "source": [
        "torch.cuda.empty_cache()"
      ],
      "execution_count": null,
      "outputs": []
    },
    {
      "cell_type": "code",
      "metadata": {
        "execution": {
          "iopub.execute_input": "2020-09-27T05:12:24.852939Z",
          "iopub.status.busy": "2020-09-27T05:12:24.852672Z",
          "iopub.status.idle": "2020-09-27T05:12:24.882396Z",
          "shell.execute_reply": "2020-09-27T05:12:24.880844Z",
          "shell.execute_reply.started": "2020-09-27T05:12:24.852912Z"
        },
        "id": "alQ6EjlHsGWQ",
        "outputId": "c175444c-ec45-4553-9a16-c68067571b2a",
        "colab": {
          "base_uri": "https://localhost:8080/",
          "height": 1000
        }
      },
      "source": [
        "history.extend(fit(model, train_dl, val_dl, 32, 0.001))"
      ],
      "execution_count": null,
      "outputs": [
        {
          "output_type": "stream",
          "text": [
            "Epoch  0\n",
            "loss:  2.169728994369507 accuracy:  0.1319444477558136 \n",
            "\n",
            "Epoch  1\n",
            "loss:  1.743730902671814 accuracy:  0.5208333134651184 \n",
            "\n",
            "Epoch  2\n",
            "loss:  1.796745777130127 accuracy:  0.3402777910232544 \n",
            "\n",
            "Epoch  3\n",
            "loss:  1.830008625984192 accuracy:  0.4305555522441864 \n",
            "\n",
            "Epoch  4\n",
            "loss:  1.9046988487243652 accuracy:  0.3194444477558136 \n",
            "\n",
            "Epoch  5\n",
            "loss:  1.7570042610168457 accuracy:  0.5694444179534912 \n",
            "\n",
            "Epoch  6\n",
            "loss:  1.7969809770584106 accuracy:  0.5069444179534912 \n",
            "\n",
            "Epoch  7\n",
            "loss:  1.7335870265960693 accuracy:  0.5 \n",
            "\n",
            "Epoch  8\n",
            "loss:  1.9487626552581787 accuracy:  0.2847222089767456 \n",
            "\n",
            "Epoch  9\n",
            "loss:  1.6751344203948975 accuracy:  0.6458333134651184 \n",
            "\n",
            "Epoch  10\n",
            "loss:  1.91072416305542 accuracy:  0.375 \n",
            "\n",
            "Epoch  11\n",
            "loss:  1.671165943145752 accuracy:  0.6388888955116272 \n",
            "\n",
            "Epoch  12\n",
            "loss:  1.704332947731018 accuracy:  0.625 \n",
            "\n",
            "Epoch  13\n",
            "loss:  1.665153980255127 accuracy:  0.6319444179534912 \n",
            "\n",
            "Epoch  14\n",
            "loss:  2.067390203475952 accuracy:  0.2569444477558136 \n",
            "\n",
            "Epoch  15\n",
            "loss:  1.7126144170761108 accuracy:  0.5763888955116272 \n",
            "\n",
            "Epoch  16\n",
            "loss:  1.6967177391052246 accuracy:  0.6111111044883728 \n",
            "\n",
            "Epoch  17\n",
            "loss:  1.6875790357589722 accuracy:  0.6388888955116272 \n",
            "\n",
            "Epoch  18\n",
            "loss:  1.6190437078475952 accuracy:  0.7361111044883728 \n",
            "\n",
            "Epoch  19\n",
            "loss:  1.653383731842041 accuracy:  0.7430555820465088 \n",
            "\n",
            "Epoch  20\n",
            "loss:  1.6728883981704712 accuracy:  0.6805555820465088 \n",
            "\n",
            "Epoch  21\n",
            "loss:  1.6251779794692993 accuracy:  0.7291666865348816 \n",
            "\n",
            "Epoch  22\n",
            "loss:  1.6815260648727417 accuracy:  0.6666666865348816 \n",
            "\n",
            "Epoch  23\n",
            "loss:  1.6665620803833008 accuracy:  0.6736111044883728 \n",
            "\n",
            "Epoch  24\n",
            "loss:  1.6601247787475586 accuracy:  0.7013888955116272 \n",
            "\n",
            "Epoch  25\n",
            "loss:  1.6746692657470703 accuracy:  0.6597222089767456 \n",
            "\n",
            "Epoch  26\n",
            "loss:  1.6373528242111206 accuracy:  0.7083333134651184 \n",
            "\n",
            "Epoch  27\n",
            "loss:  1.701257586479187 accuracy:  0.6458333134651184 \n",
            "\n",
            "Epoch  28\n",
            "loss:  1.640763282775879 accuracy:  0.7430555820465088 \n",
            "\n",
            "Epoch  29\n",
            "loss:  1.6667110919952393 accuracy:  0.6875 \n",
            "\n",
            "Epoch  30\n",
            "loss:  1.6099576950073242 accuracy:  0.7569444179534912 \n",
            "\n",
            "Epoch  31\n",
            "loss:  1.7301141023635864 accuracy:  0.625 \n",
            "\n"
          ],
          "name": "stdout"
        }
      ]
    },
    {
      "cell_type": "code",
      "metadata": {
        "id": "dsx4Sm1aKKIj",
        "outputId": "b308719d-fad0-45cc-9e0f-ef721bf19bb9",
        "colab": {
          "base_uri": "https://localhost:8080/",
          "height": 407
        }
      },
      "source": [
        "history.extend(fit(model, train_dl, val_dl, 8, 0.0001))"
      ],
      "execution_count": null,
      "outputs": [
        {
          "output_type": "stream",
          "text": [
            "Epoch  0\n",
            "loss:  1.5909523963928223 accuracy:  0.7569444179534912 \n",
            "\n",
            "Epoch  1\n",
            "loss:  1.6111741065979004 accuracy:  0.7291666865348816 \n",
            "\n",
            "Epoch  2\n",
            "loss:  1.5859800577163696 accuracy:  0.7638888955116272 \n",
            "\n",
            "Epoch  3\n",
            "loss:  1.5965073108673096 accuracy:  0.7291666865348816 \n",
            "\n",
            "Epoch  4\n",
            "loss:  1.5816415548324585 accuracy:  0.7638888955116272 \n",
            "\n",
            "Epoch  5\n",
            "loss:  1.5849676132202148 accuracy:  0.7777777910232544 \n",
            "\n",
            "Epoch  6\n",
            "loss:  1.5974526405334473 accuracy:  0.75 \n",
            "\n",
            "Epoch  7\n",
            "loss:  1.6019591093063354 accuracy:  0.75 \n",
            "\n"
          ],
          "name": "stdout"
        }
      ]
    },
    {
      "cell_type": "code",
      "metadata": {
        "id": "T5XiENmh4ByI",
        "outputId": "b0da6717-388d-43d8-f02b-5fade2f0a4cc",
        "colab": {
          "base_uri": "https://localhost:8080/",
          "height": 407
        }
      },
      "source": [
        "history.extend(fit(model, train_dl, val_dl, 8, 0.0001))"
      ],
      "execution_count": null,
      "outputs": [
        {
          "output_type": "stream",
          "text": [
            "Epoch  0\n",
            "loss:  1.5786197185516357 accuracy:  0.7847222089767456 \n",
            "\n",
            "Epoch  1\n",
            "loss:  1.5882000923156738 accuracy:  0.7847222089767456 \n",
            "\n",
            "Epoch  2\n",
            "loss:  1.5943114757537842 accuracy:  0.7569444179534912 \n",
            "\n",
            "Epoch  3\n",
            "loss:  1.5973057746887207 accuracy:  0.7569444179534912 \n",
            "\n",
            "Epoch  4\n",
            "loss:  1.585551381111145 accuracy:  0.7847222089767456 \n",
            "\n",
            "Epoch  5\n",
            "loss:  1.577404499053955 accuracy:  0.7847222089767456 \n",
            "\n",
            "Epoch  6\n",
            "loss:  1.584718108177185 accuracy:  0.7638888955116272 \n",
            "\n",
            "Epoch  7\n",
            "loss:  1.5882742404937744 accuracy:  0.7708333134651184 \n",
            "\n"
          ],
          "name": "stdout"
        }
      ]
    },
    {
      "cell_type": "code",
      "metadata": {
        "id": "wqfQYoo9sR3P",
        "outputId": "fb0d8266-52c6-4b79-ed82-b335750f3369",
        "colab": {
          "base_uri": "https://localhost:8080/",
          "height": 66
        }
      },
      "source": [
        "r = evaluate(model, test_dl)\n",
        "yp, yt = predict_dl(model, test_dl)\n",
        "print(\"Loss: \", r['loss'], \"\\nAccuracy: \", r['accuracy'], \"\\nF-score: \", f1_score(yt, yp, average='micro'))"
      ],
      "execution_count": null,
      "outputs": [
        {
          "output_type": "stream",
          "text": [
            "Loss:  1.5732712745666504 \n",
            "Accuracy:  0.8055555820465088 \n",
            "F-score:  0.8055555555555556\n"
          ],
          "name": "stdout"
        }
      ]
    },
    {
      "cell_type": "code",
      "metadata": {
        "id": "T7sIwuDIAFR3"
      },
      "source": [
        "losses = []\n",
        "accuracies = []\n",
        "for i in history:\n",
        "    losses.append(i['loss'])\n",
        "    accuracies.append(i['accuracy'])\n",
        "\n",
        "def plot(var, title):\n",
        "    plt.plot(var, '-x')\n",
        "    plt.title(title)"
      ],
      "execution_count": null,
      "outputs": []
    },
    {
      "cell_type": "code",
      "metadata": {
        "id": "-o5XEgkvAFR6",
        "outputId": "cb4d37bb-1dd5-4f47-c87c-b4db63a5954c",
        "colab": {
          "base_uri": "https://localhost:8080/",
          "height": 281
        }
      },
      "source": [
        "plot(losses, 'Losses')"
      ],
      "execution_count": null,
      "outputs": [
        {
          "output_type": "display_data",
          "data": {
            "image/png": "[encoded data removed]",
            "text/plain": [
              "<Figure size 432x288 with 1 Axes>"
            ]
          },
          "metadata": {
            "tags": [],
            "needs_background": "light"
          }
        }
      ]
    },
    {
      "cell_type": "code",
      "metadata": {
        "id": "68VWf9p7AFR9",
        "outputId": "36b5d5f7-8dcb-42cb-c0bf-ba78699ad775",
        "colab": {
          "base_uri": "https://localhost:8080/",
          "height": 281
        }
      },
      "source": [
        "plot(accuracies, 'Accuracies')"
      ],
      "execution_count": null,
      "outputs": [
        {
          "output_type": "display_data",
          "data": {
            "image/png": "[encoded data removed]",
            "text/plain": [
              "<Figure size 432x288 with 1 Axes>"
            ]
          },
          "metadata": {
            "tags": [],
            "needs_background": "light"
          }
        }
      ]
    },
    {
      "cell_type": "markdown",
      "metadata": {
        "id": "CGoDJQUZ2dRE"
      },
      "source": [
        "## deepC"
      ]
    },
    {
      "cell_type": "code",
      "metadata": {
        "id": "8I8t45k-2cUz"
      },
      "source": [
        "torch.save(model, '/content/speechEmotion_mel.pth')"
      ],
      "execution_count": null,
      "outputs": []
    },
    {
      "cell_type": "code",
      "metadata": {
        "id": "mYxTBBldJ5pg"
      },
      "source": [
        "torch.load(model, '/content/speechEmotion_mel.pth')"
      ],
      "execution_count": null,
      "outputs": []
    },
    {
      "cell_type": "code",
      "metadata": {
        "id": "sFRHtUEKa3bd"
      },
      "source": [
        "dummy = train_dset[0][0].unsqueeze(0)\n",
        "torch.onnx.export(model, dummy, 'speechEmotion_mel.onnx')\n",
        "\n",
        "!deepCC speechEmotion_mel.onnx"
      ],
      "execution_count": null,
      "outputs": []
    },
    {
      "cell_type": "code",
      "metadata": {
        "id": "31bltKNSAFSL"
      },
      "source": [
        "sample = test_dtest.iloc[0]\n",
        "np.savetxt('sample.data', sample)\n",
        "\n",
        "!speechEmotion_mfccs_deepC/speechEmotion_mfccs.exe sample.data\n",
        "\n",
        "nn_out = np.loadtxt('dense_19.out')\n",
        "\n",
        "print(\"Actual: \", ytest.iloc[0].status)\n",
        "\n",
        "print(\"Prediction: \", int(nn_out))"
      ],
      "execution_count": null,
      "outputs": []
    },
    {
      "cell_type": "markdown",
      "metadata": {
        "id": "Y0qE_-d3iGC7"
      },
      "source": [
        "# STFT"
      ]
    },
    {
      "cell_type": "markdown",
      "metadata": {
        "id": "gCz1EGDklzGk"
      },
      "source": [
        "## Training"
      ]
    },
    {
      "cell_type": "code",
      "metadata": {
        "id": "o0XBUPyAiNqr"
      },
      "source": [
        "speech_dset = SpeechEmotion('https://cainvas-static.s3.amazonaws.com/media/user_data/AyishaR0/SpeechEmotion.csv', 'speechEmotionImages/stft/', transforms.Compose([transforms.ToTensor()]))"
      ],
      "execution_count": null,
      "outputs": []
    },
    {
      "cell_type": "code",
      "metadata": {
        "id": "zegZDeazx521",
        "outputId": "e9e40f72-4df4-4730-8b18-b3e3d54d0a9f",
        "colab": {
          "base_uri": "https://localhost:8080/",
          "height": 33
        }
      },
      "source": [
        "size = len(speech_dset)\n",
        "test_size = val_size = int(0.1 * size)\n",
        "train_size = size - val_size - test_size\n",
        "\n",
        "train_dset, val_dset, test_dset = random_split(speech_dset, [train_size, val_size, test_size])\n",
        "\n",
        "print(train_size, val_size, test_size)\n",
        "\n",
        "train_dl = DataLoader(train_dset, 16, True, num_workers=6, pin_memory=True)\n",
        "val_dl = DataLoader(val_dset, 16, num_workers=6, pin_memory=True)\n",
        "test_dl = DataLoader(test_dset, 16, num_workers = 6)\n",
        "\n",
        "train_dl = DeviceDataLoader(train_dl, device)\n",
        "val_dl = DeviceDataLoader(val_dl, device)\n",
        "test_dl = DeviceDataLoader(test_dl, device)"
      ],
      "execution_count": null,
      "outputs": [
        {
          "output_type": "stream",
          "text": [
            "1152 144 144\n"
          ],
          "name": "stdout"
        }
      ]
    },
    {
      "cell_type": "code",
      "metadata": {
        "id": "fvjk2JigyBlw",
        "outputId": "26c39039-22eb-479d-c2a3-99528f4ac5a8",
        "colab": {
          "base_uri": "https://localhost:8080/",
          "height": 33
        }
      },
      "source": [
        "model = to_device(SpeechEmotionModel(), device)\n",
        "history = []\n",
        "evaluate(model, val_dl)"
      ],
      "execution_count": null,
      "outputs": [
        {
          "output_type": "execute_result",
          "data": {
            "text/plain": [
              "{'accuracy': 0.0763888880610466, 'loss': 2.2026689052581787}"
            ]
          },
          "metadata": {
            "tags": []
          },
          "execution_count": 25
        }
      ]
    },
    {
      "cell_type": "code",
      "metadata": {
        "id": "FWh3TUz9yGMF"
      },
      "source": [
        "torch.cuda.empty_cache()"
      ],
      "execution_count": null,
      "outputs": []
    },
    {
      "cell_type": "code",
      "metadata": {
        "id": "0UsPnE4vyMVv",
        "outputId": "a8d73d98-dcf7-46ea-88b9-73c99e04532c",
        "colab": {
          "base_uri": "https://localhost:8080/",
          "height": 1000
        }
      },
      "source": [
        "history.extend(fit(model, train_dl, val_dl, 32, 0.001))"
      ],
      "execution_count": null,
      "outputs": [
        {
          "output_type": "stream",
          "text": [
            "Epoch  0\n",
            "loss:  2.2723164558410645 accuracy:  0.0902777761220932 \n",
            "\n",
            "Epoch  1\n",
            "loss:  2.1141176223754883 accuracy:  0.1875 \n",
            "\n",
            "Epoch  2\n",
            "loss:  1.9202954769134521 accuracy:  0.2986111044883728 \n",
            "\n",
            "Epoch  3\n",
            "loss:  1.9470181465148926 accuracy:  0.3958333432674408 \n",
            "\n",
            "Epoch  4\n",
            "loss:  2.2321152687072754 accuracy:  0.1875 \n",
            "\n",
            "Epoch  5\n",
            "loss:  1.7887017726898193 accuracy:  0.4930555522441864 \n",
            "\n",
            "Epoch  6\n",
            "loss:  2.3514456748962402 accuracy:  0.0902777761220932 \n",
            "\n",
            "Epoch  7\n",
            "loss:  2.02872633934021 accuracy:  0.2430555522441864 \n",
            "\n",
            "Epoch  8\n",
            "loss:  1.9344310760498047 accuracy:  0.375 \n",
            "\n",
            "Epoch  9\n",
            "loss:  1.789681077003479 accuracy:  0.4930555522441864 \n",
            "\n",
            "Epoch  10\n",
            "loss:  1.8412089347839355 accuracy:  0.4166666567325592 \n",
            "\n",
            "Epoch  11\n",
            "loss:  1.692091464996338 accuracy:  0.5416666865348816 \n",
            "\n",
            "Epoch  12\n",
            "loss:  1.6859997510910034 accuracy:  0.6319444179534912 \n",
            "\n",
            "Epoch  13\n",
            "loss:  2.1879000663757324 accuracy:  0.1527777761220932 \n",
            "\n",
            "Epoch  14\n",
            "loss:  1.7468171119689941 accuracy:  0.5972222089767456 \n",
            "\n",
            "Epoch  15\n",
            "loss:  1.7700973749160767 accuracy:  0.5138888955116272 \n",
            "\n",
            "Epoch  16\n",
            "loss:  1.8077468872070312 accuracy:  0.5416666865348816 \n",
            "\n",
            "Epoch  17\n",
            "loss:  1.7373180389404297 accuracy:  0.5833333134651184 \n",
            "\n",
            "Epoch  18\n",
            "loss:  1.6955361366271973 accuracy:  0.6319444179534912 \n",
            "\n",
            "Epoch  19\n",
            "loss:  1.678289532661438 accuracy:  0.6736111044883728 \n",
            "\n",
            "Epoch  20\n",
            "loss:  1.7295823097229004 accuracy:  0.6180555820465088 \n",
            "\n",
            "Epoch  21\n",
            "loss:  1.6618891954421997 accuracy:  0.6875 \n",
            "\n",
            "Epoch  22\n",
            "loss:  1.6890603303909302 accuracy:  0.6805555820465088 \n",
            "\n",
            "Epoch  23\n",
            "loss:  1.706982970237732 accuracy:  0.6527777910232544 \n",
            "\n",
            "Epoch  24\n",
            "loss:  1.7203649282455444 accuracy:  0.5972222089767456 \n",
            "\n",
            "Epoch  25\n",
            "loss:  2.052950620651245 accuracy:  0.3194444477558136 \n",
            "\n",
            "Epoch  26\n",
            "loss:  1.6939258575439453 accuracy:  0.625 \n",
            "\n",
            "Epoch  27\n",
            "loss:  1.8912800550460815 accuracy:  0.4444444477558136 \n",
            "\n",
            "Epoch  28\n",
            "loss:  1.8403551578521729 accuracy:  0.4861111044883728 \n",
            "\n",
            "Epoch  29\n",
            "loss:  1.7105462551116943 accuracy:  0.625 \n",
            "\n",
            "Epoch  30\n",
            "loss:  1.7397807836532593 accuracy:  0.5625 \n",
            "\n",
            "Epoch  31\n",
            "loss:  1.7227189540863037 accuracy:  0.625 \n",
            "\n"
          ],
          "name": "stdout"
        }
      ]
    },
    {
      "cell_type": "code",
      "metadata": {
        "id": "RpFMwAve7-Rd",
        "outputId": "c4c53038-69d1-42e7-efb9-b06ae823c1af",
        "colab": {
          "base_uri": "https://localhost:8080/",
          "height": 407
        }
      },
      "source": [
        "history.extend(fit(model, train_dl, val_dl, 8, 0.0001))"
      ],
      "execution_count": null,
      "outputs": [
        {
          "output_type": "stream",
          "text": [
            "Epoch  0\n",
            "loss:  1.6095901727676392 accuracy:  0.7222222089767456 \n",
            "\n",
            "Epoch  1\n",
            "loss:  1.6174432039260864 accuracy:  0.7291666865348816 \n",
            "\n",
            "Epoch  2\n",
            "loss:  1.6069121360778809 accuracy:  0.7361111044883728 \n",
            "\n",
            "Epoch  3\n",
            "loss:  1.613361120223999 accuracy:  0.75 \n",
            "\n",
            "Epoch  4\n",
            "loss:  1.6085357666015625 accuracy:  0.7430555820465088 \n",
            "\n",
            "Epoch  5\n",
            "loss:  1.611478567123413 accuracy:  0.7361111044883728 \n",
            "\n",
            "Epoch  6\n",
            "loss:  1.6111276149749756 accuracy:  0.7222222089767456 \n",
            "\n",
            "Epoch  7\n",
            "loss:  1.6099576950073242 accuracy:  0.7430555820465088 \n",
            "\n"
          ],
          "name": "stdout"
        }
      ]
    },
    {
      "cell_type": "code",
      "metadata": {
        "id": "E5RlDI2r9L2e",
        "outputId": "49dc2bdb-ac02-4239-be48-a49d0481dc2d",
        "colab": {
          "base_uri": "https://localhost:8080/",
          "height": 797
        }
      },
      "source": [
        "history.extend(fit(model, train_dl, val_dl, 16, 0.00001))"
      ],
      "execution_count": null,
      "outputs": [
        {
          "output_type": "stream",
          "text": [
            "Epoch  0\n",
            "loss:  1.610970377922058 accuracy:  0.7638888955116272 \n",
            "\n",
            "Epoch  1\n",
            "loss:  1.6075644493103027 accuracy:  0.7569444179534912 \n",
            "\n",
            "Epoch  2\n",
            "loss:  1.6155704259872437 accuracy:  0.7361111044883728 \n",
            "\n",
            "Epoch  3\n",
            "loss:  1.6120448112487793 accuracy:  0.7291666865348816 \n",
            "\n",
            "Epoch  4\n",
            "loss:  1.6114393472671509 accuracy:  0.7569444179534912 \n",
            "\n",
            "Epoch  5\n",
            "loss:  1.6131725311279297 accuracy:  0.75 \n",
            "\n",
            "Epoch  6\n",
            "loss:  1.612021565437317 accuracy:  0.75 \n",
            "\n",
            "Epoch  7\n",
            "loss:  1.616101622581482 accuracy:  0.7430555820465088 \n",
            "\n",
            "Epoch  8\n",
            "loss:  1.6141304969787598 accuracy:  0.7569444179534912 \n",
            "\n",
            "Epoch  9\n",
            "loss:  1.6092559099197388 accuracy:  0.7430555820465088 \n",
            "\n",
            "Epoch  10\n",
            "loss:  1.605528712272644 accuracy:  0.7638888955116272 \n",
            "\n",
            "Epoch  11\n",
            "loss:  1.6154865026474 accuracy:  0.7430555820465088 \n",
            "\n",
            "Epoch  12\n",
            "loss:  1.610883355140686 accuracy:  0.7291666865348816 \n",
            "\n",
            "Epoch  13\n",
            "loss:  1.6095690727233887 accuracy:  0.75 \n",
            "\n",
            "Epoch  14\n",
            "loss:  1.60866117477417 accuracy:  0.75 \n",
            "\n",
            "Epoch  15\n",
            "loss:  1.6236006021499634 accuracy:  0.7361111044883728 \n",
            "\n"
          ],
          "name": "stdout"
        }
      ]
    },
    {
      "cell_type": "code",
      "metadata": {
        "id": "_XlejsoRyQpU",
        "outputId": "a9afee17-23b5-4be6-cfc7-4922c0c20659",
        "colab": {
          "base_uri": "https://localhost:8080/",
          "height": 66
        }
      },
      "source": [
        "r = evaluate(model, test_dl)\n",
        "yp, yt = predict_dl(model, test_dl)\n",
        "print(\"Loss: \", r['loss'], \"\\nAccuracy: \", r['accuracy'], \"\\nF-score: \", f1_score(yt, yp, average='micro'))"
      ],
      "execution_count": null,
      "outputs": [
        {
          "output_type": "stream",
          "text": [
            "Loss:  1.5800718069076538 \n",
            "Accuracy:  0.7569444179534912 \n",
            "F-score:  0.7569444444444444\n"
          ],
          "name": "stdout"
        }
      ]
    },
    {
      "cell_type": "code",
      "metadata": {
        "id": "5TmST8GSyVUA"
      },
      "source": [
        "losses = []\n",
        "accuracies = []\n",
        "for i in history:\n",
        "    losses.append(i['loss'])\n",
        "    accuracies.append(i['accuracy'])\n",
        "\n",
        "def plot(var, title):\n",
        "    plt.plot(var, '-x')\n",
        "    plt.title(title)"
      ],
      "execution_count": null,
      "outputs": []
    },
    {
      "cell_type": "code",
      "metadata": {
        "id": "jTFlVMaU-cLI",
        "outputId": "d1fc0fe8-23c2-440f-cee2-cd6413ea33e8",
        "colab": {
          "base_uri": "https://localhost:8080/",
          "height": 281
        }
      },
      "source": [
        "plot(losses, 'Losses')"
      ],
      "execution_count": null,
      "outputs": [
        {
          "output_type": "display_data",
          "data": {
            "image/png": "[encoded data removed]",
            "text/plain": [
              "<Figure size 432x288 with 1 Axes>"
            ]
          },
          "metadata": {
            "tags": [],
            "needs_background": "light"
          }
        }
      ]
    },
    {
      "cell_type": "code",
      "metadata": {
        "id": "ZgS-2p49-hLl",
        "outputId": "e555eb7b-8ef1-4c28-dccc-14b2869d52d1",
        "colab": {
          "base_uri": "https://localhost:8080/",
          "height": 281
        }
      },
      "source": [
        "plot(accuracies, 'Accuracies')"
      ],
      "execution_count": null,
      "outputs": [
        {
          "output_type": "display_data",
          "data": {
            "image/png": "[encoded data removed]",
            "text/plain": [
              "<Figure size 432x288 with 1 Axes>"
            ]
          },
          "metadata": {
            "tags": [],
            "needs_background": "light"
          }
        }
      ]
    },
    {
      "cell_type": "markdown",
      "metadata": {
        "id": "ezELlvdCyaSe"
      },
      "source": [
        "## deepC"
      ]
    },
    {
      "cell_type": "code",
      "metadata": {
        "id": "dXKJymgKya6Q"
      },
      "source": [
        "torch.save(model, '/content/speechEmotion_stft.pth')"
      ],
      "execution_count": null,
      "outputs": []
    },
    {
      "cell_type": "code",
      "metadata": {
        "id": "RjenrQNkyeBl"
      },
      "source": [
        "torch.load(model, '/content/speechEmotion_mel.pth')"
      ],
      "execution_count": null,
      "outputs": []
    },
    {
      "cell_type": "code",
      "metadata": {
        "id": "0m7seVdIywG2"
      },
      "source": [
        "dummy = train_dset[0][0].unsqueeze(0)\n",
        "torch.onnx.export(model, dummy, 'speechEmotion_mel.onnx')\n",
        "\n",
        "!deepCC speechEmotion_mel.onnx"
      ],
      "execution_count": null,
      "outputs": []
    },
    {
      "cell_type": "code",
      "metadata": {
        "id": "c3g2wKKOy7dV"
      },
      "source": [
        "sample = test_dtest.iloc[0]\n",
        "np.savetxt('sample.data', sample)\n",
        "\n",
        "!speechEmotion_mfccs_deepC/speechEmotion_mfccs.exe sample.data\n",
        "\n",
        "nn_out = np.loadtxt('dense_19.out')\n",
        "\n",
        "print(\"Actual: \", ytest.iloc[0].status)\n",
        "\n",
        "print(\"Prediction: \", int(nn_out))"
      ],
      "execution_count": null,
      "outputs": []
    },
    {
      "cell_type": "markdown",
      "metadata": {
        "id": "CSDDEYw7iO76"
      },
      "source": [
        "# Standardized stft"
      ]
    },
    {
      "cell_type": "markdown",
      "metadata": {
        "id": "gkl1foBIlqL7"
      },
      "source": [
        "## Training"
      ]
    },
    {
      "cell_type": "code",
      "metadata": {
        "id": "tD370DDFiRFK"
      },
      "source": [
        "speech_dset = SpeechEmotion('https://cainvas-static.s3.amazonaws.com/media/user_data/AyishaR0/SpeechEmotion.csv', 'speechEmotionImages/stft_std/', transforms.Compose([transforms.ToTensor()]))"
      ],
      "execution_count": null,
      "outputs": []
    },
    {
      "cell_type": "code",
      "metadata": {
        "id": "8YSBgN4qx6l8",
        "outputId": "07124c6d-a76c-4579-f9fb-4e36c4cc64e8",
        "colab": {
          "base_uri": "https://localhost:8080/",
          "height": 33
        }
      },
      "source": [
        "size = len(speech_dset)\n",
        "test_size = val_size = int(0.1 * size)\n",
        "train_size = size - val_size - test_size\n",
        "\n",
        "train_dset, val_dset, test_dset = random_split(speech_dset, [train_size, val_size, test_size])\n",
        "\n",
        "print(train_size, val_size, test_size)\n",
        "\n",
        "train_dl = DataLoader(train_dset, 16, True, num_workers=6, pin_memory=True)\n",
        "val_dl = DataLoader(val_dset, 16, num_workers=6, pin_memory=True)\n",
        "test_dl = DataLoader(test_dset, 16, num_workers = 6)\n",
        "\n",
        "train_dl = DeviceDataLoader(train_dl, device)\n",
        "val_dl = DeviceDataLoader(val_dl, device)\n",
        "test_dl = DeviceDataLoader(test_dl, device)"
      ],
      "execution_count": null,
      "outputs": [
        {
          "output_type": "stream",
          "text": [
            "1152 144 144\n"
          ],
          "name": "stdout"
        }
      ]
    },
    {
      "cell_type": "code",
      "metadata": {
        "id": "on_5838wyCV0",
        "outputId": "921cb64e-ba11-48d6-f42c-4d47351e4385",
        "colab": {
          "base_uri": "https://localhost:8080/",
          "height": 33
        }
      },
      "source": [
        "model = to_device(SpeechEmotionModel(), device)\n",
        "history = []\n",
        "evaluate(model, val_dl)"
      ],
      "execution_count": null,
      "outputs": [
        {
          "output_type": "execute_result",
          "data": {
            "text/plain": [
              "{'accuracy': 0.1527777761220932, 'loss': 2.1972570419311523}"
            ]
          },
          "metadata": {
            "tags": []
          },
          "execution_count": 36
        }
      ]
    },
    {
      "cell_type": "code",
      "metadata": {
        "id": "ICpldWWMyG4d"
      },
      "source": [
        "torch.cuda.empty_cache()"
      ],
      "execution_count": null,
      "outputs": []
    },
    {
      "cell_type": "code",
      "metadata": {
        "id": "PjXUONPDyNNR",
        "outputId": "9b3df323-90d2-410d-c285-829bde99253b",
        "colab": {
          "base_uri": "https://localhost:8080/",
          "height": 1000
        }
      },
      "source": [
        "history.extend(fit(model, train_dl, val_dl, 32, 0.001))"
      ],
      "execution_count": null,
      "outputs": [
        {
          "output_type": "stream",
          "text": [
            "Epoch  0\n",
            "loss:  2.09226131439209 accuracy:  0.2083333283662796 \n",
            "\n",
            "Epoch  1\n",
            "loss:  1.9327648878097534 accuracy:  0.3402777910232544 \n",
            "\n",
            "Epoch  2\n",
            "loss:  2.0928919315338135 accuracy:  0.2847222089767456 \n",
            "\n",
            "Epoch  3\n",
            "loss:  1.8533865213394165 accuracy:  0.3958333432674408 \n",
            "\n",
            "Epoch  4\n",
            "loss:  2.032048225402832 accuracy:  0.1736111044883728 \n",
            "\n",
            "Epoch  5\n",
            "loss:  2.120805025100708 accuracy:  0.2083333283662796 \n",
            "\n",
            "Epoch  6\n",
            "loss:  1.8099043369293213 accuracy:  0.4444444477558136 \n",
            "\n",
            "Epoch  7\n",
            "loss:  1.8589556217193604 accuracy:  0.3819444477558136 \n",
            "\n",
            "Epoch  8\n",
            "loss:  1.7530889511108398 accuracy:  0.5069444179534912 \n",
            "\n",
            "Epoch  9\n",
            "loss:  1.7508325576782227 accuracy:  0.5208333134651184 \n",
            "\n",
            "Epoch  10\n",
            "loss:  1.7624258995056152 accuracy:  0.4652777910232544 \n",
            "\n",
            "Epoch  11\n",
            "loss:  1.768691062927246 accuracy:  0.5277777910232544 \n",
            "\n",
            "Epoch  12\n",
            "loss:  1.7234476804733276 accuracy:  0.6041666865348816 \n",
            "\n",
            "Epoch  13\n",
            "loss:  1.7128417491912842 accuracy:  0.6319444179534912 \n",
            "\n",
            "Epoch  14\n",
            "loss:  2.020747184753418 accuracy:  0.3472222089767456 \n",
            "\n",
            "Epoch  15\n",
            "loss:  1.7960543632507324 accuracy:  0.5 \n",
            "\n",
            "Epoch  16\n",
            "loss:  1.7791790962219238 accuracy:  0.4722222089767456 \n",
            "\n",
            "Epoch  17\n",
            "loss:  1.6502435207366943 accuracy:  0.6875 \n",
            "\n",
            "Epoch  18\n",
            "loss:  1.7274786233901978 accuracy:  0.6180555820465088 \n",
            "\n",
            "Epoch  19\n",
            "loss:  1.7744064331054688 accuracy:  0.5763888955116272 \n",
            "\n",
            "Epoch  20\n",
            "loss:  1.84075927734375 accuracy:  0.4791666567325592 \n",
            "\n",
            "Epoch  21\n",
            "loss:  1.8345533609390259 accuracy:  0.4930555522441864 \n",
            "\n",
            "Epoch  22\n",
            "loss:  1.8205928802490234 accuracy:  0.5138888955116272 \n",
            "\n",
            "Epoch  23\n",
            "loss:  1.7096189260482788 accuracy:  0.6319444179534912 \n",
            "\n",
            "Epoch  24\n",
            "loss:  1.6807526350021362 accuracy:  0.6736111044883728 \n",
            "\n",
            "Epoch  25\n",
            "loss:  1.6978776454925537 accuracy:  0.6666666865348816 \n",
            "\n",
            "Epoch  26\n",
            "loss:  1.7116897106170654 accuracy:  0.5902777910232544 \n",
            "\n",
            "Epoch  27\n",
            "loss:  1.7538866996765137 accuracy:  0.5625 \n",
            "\n",
            "Epoch  28\n",
            "loss:  1.6771700382232666 accuracy:  0.6527777910232544 \n",
            "\n",
            "Epoch  29\n",
            "loss:  1.7463934421539307 accuracy:  0.5972222089767456 \n",
            "\n",
            "Epoch  30\n",
            "loss:  1.712143063545227 accuracy:  0.625 \n",
            "\n",
            "Epoch  31\n",
            "loss:  1.8003802299499512 accuracy:  0.5416666865348816 \n",
            "\n"
          ],
          "name": "stdout"
        }
      ]
    },
    {
      "cell_type": "code",
      "metadata": {
        "id": "uOsaCr5gA9Zw",
        "outputId": "1906e7c2-6700-4a67-b0be-f5462635690f",
        "colab": {
          "base_uri": "https://localhost:8080/",
          "height": 797
        }
      },
      "source": [
        "history.extend(fit(model, train_dl, val_dl, 16, 0.0001))"
      ],
      "execution_count": null,
      "outputs": [
        {
          "output_type": "stream",
          "text": [
            "Epoch  0\n",
            "loss:  1.6636943817138672 accuracy:  0.7152777910232544 \n",
            "\n",
            "Epoch  1\n",
            "loss:  1.6567720174789429 accuracy:  0.7013888955116272 \n",
            "\n",
            "Epoch  2\n",
            "loss:  1.6563411951065063 accuracy:  0.6875 \n",
            "\n",
            "Epoch  3\n",
            "loss:  1.6578551530838013 accuracy:  0.6944444179534912 \n",
            "\n",
            "Epoch  4\n",
            "loss:  1.6679399013519287 accuracy:  0.6875 \n",
            "\n",
            "Epoch  5\n",
            "loss:  1.6533290147781372 accuracy:  0.7083333134651184 \n",
            "\n",
            "Epoch  6\n",
            "loss:  1.6698867082595825 accuracy:  0.6875 \n",
            "\n",
            "Epoch  7\n",
            "loss:  1.664333701133728 accuracy:  0.6944444179534912 \n",
            "\n",
            "Epoch  8\n",
            "loss:  1.6567319631576538 accuracy:  0.7152777910232544 \n",
            "\n",
            "Epoch  9\n",
            "loss:  1.6531113386154175 accuracy:  0.7013888955116272 \n",
            "\n",
            "Epoch  10\n",
            "loss:  1.6758359670639038 accuracy:  0.6805555820465088 \n",
            "\n",
            "Epoch  11\n",
            "loss:  1.6638351678848267 accuracy:  0.7013888955116272 \n",
            "\n",
            "Epoch  12\n",
            "loss:  1.66373610496521 accuracy:  0.7083333134651184 \n",
            "\n",
            "Epoch  13\n",
            "loss:  1.6832810640335083 accuracy:  0.6666666865348816 \n",
            "\n",
            "Epoch  14\n",
            "loss:  1.6603890657424927 accuracy:  0.6875 \n",
            "\n",
            "Epoch  15\n",
            "loss:  1.6583186388015747 accuracy:  0.6875 \n",
            "\n"
          ],
          "name": "stdout"
        }
      ]
    },
    {
      "cell_type": "code",
      "metadata": {
        "id": "Sm7SQjliC_pv",
        "outputId": "60c4f472-2368-4785-90d1-3749e64c4335",
        "colab": {
          "base_uri": "https://localhost:8080/",
          "height": 1000
        }
      },
      "source": [
        "history.extend(fit(model, train_dl, val_dl, 32, 0.000001))"
      ],
      "execution_count": null,
      "outputs": [
        {
          "output_type": "stream",
          "text": [
            "Epoch  0\n",
            "loss:  1.644144892692566 accuracy:  0.7152777910232544 \n",
            "\n",
            "Epoch  1\n",
            "loss:  1.645261287689209 accuracy:  0.6944444179534912 \n",
            "\n",
            "Epoch  2\n",
            "loss:  1.6544649600982666 accuracy:  0.6944444179534912 \n",
            "\n",
            "Epoch  3\n",
            "loss:  1.649057388305664 accuracy:  0.6875 \n",
            "\n",
            "Epoch  4\n",
            "loss:  1.646468162536621 accuracy:  0.7013888955116272 \n",
            "\n",
            "Epoch  5\n",
            "loss:  1.642464518547058 accuracy:  0.7222222089767456 \n",
            "\n",
            "Epoch  6\n",
            "loss:  1.6514109373092651 accuracy:  0.7083333134651184 \n",
            "\n",
            "Epoch  7\n",
            "loss:  1.6449414491653442 accuracy:  0.7152777910232544 \n",
            "\n",
            "Epoch  8\n",
            "loss:  1.6486610174179077 accuracy:  0.7083333134651184 \n",
            "\n",
            "Epoch  9\n",
            "loss:  1.6528726816177368 accuracy:  0.7013888955116272 \n",
            "\n",
            "Epoch  10\n",
            "loss:  1.6450203657150269 accuracy:  0.7152777910232544 \n",
            "\n",
            "Epoch  11\n",
            "loss:  1.6483675241470337 accuracy:  0.7222222089767456 \n",
            "\n",
            "Epoch  12\n",
            "loss:  1.6541526317596436 accuracy:  0.7013888955116272 \n",
            "\n",
            "Epoch  13\n",
            "loss:  1.6467230319976807 accuracy:  0.7013888955116272 \n",
            "\n",
            "Epoch  14\n",
            "loss:  1.6478155851364136 accuracy:  0.7152777910232544 \n",
            "\n",
            "Epoch  15\n",
            "loss:  1.643944263458252 accuracy:  0.7222222089767456 \n",
            "\n",
            "Epoch  16\n",
            "loss:  1.6490240097045898 accuracy:  0.7083333134651184 \n",
            "\n",
            "Epoch  17\n",
            "loss:  1.6403112411499023 accuracy:  0.7291666865348816 \n",
            "\n",
            "Epoch  18\n",
            "loss:  1.644523024559021 accuracy:  0.7013888955116272 \n",
            "\n",
            "Epoch  19\n",
            "loss:  1.6498255729675293 accuracy:  0.7152777910232544 \n",
            "\n",
            "Epoch  20\n",
            "loss:  1.6458605527877808 accuracy:  0.7013888955116272 \n",
            "\n",
            "Epoch  21\n",
            "loss:  1.6455117464065552 accuracy:  0.7152777910232544 \n",
            "\n",
            "Epoch  22\n",
            "loss:  1.6417196989059448 accuracy:  0.7152777910232544 \n",
            "\n",
            "Epoch  23\n",
            "loss:  1.6463558673858643 accuracy:  0.6944444179534912 \n",
            "\n",
            "Epoch  24\n",
            "loss:  1.646875262260437 accuracy:  0.6944444179534912 \n",
            "\n",
            "Epoch  25\n",
            "loss:  1.6394994258880615 accuracy:  0.7083333134651184 \n",
            "\n",
            "Epoch  26\n",
            "loss:  1.6491351127624512 accuracy:  0.6805555820465088 \n",
            "\n",
            "Epoch  27\n",
            "loss:  1.6513400077819824 accuracy:  0.6944444179534912 \n",
            "\n",
            "Epoch  28\n",
            "loss:  1.6460845470428467 accuracy:  0.7222222089767456 \n",
            "\n",
            "Epoch  29\n",
            "loss:  1.6460713148117065 accuracy:  0.7013888955116272 \n",
            "\n",
            "Epoch  30\n",
            "loss:  1.645558476448059 accuracy:  0.7083333134651184 \n",
            "\n",
            "Epoch  31\n",
            "loss:  1.6505939960479736 accuracy:  0.7013888955116272 \n",
            "\n"
          ],
          "name": "stdout"
        }
      ]
    },
    {
      "cell_type": "code",
      "metadata": {
        "id": "uU7FkVW2yRnS",
        "outputId": "718c7d21-0d73-4704-c5a8-ce95ad6642e8",
        "colab": {
          "base_uri": "https://localhost:8080/",
          "height": 66
        }
      },
      "source": [
        "r = evaluate(model, test_dl)\n",
        "yp, yt = predict_dl(model, test_dl)\n",
        "print(\"Loss: \", r['loss'], \"\\nAccuracy: \", r['accuracy'], \"\\nF-score: \", f1_score(yt, yp, average='micro'))"
      ],
      "execution_count": null,
      "outputs": [
        {
          "output_type": "stream",
          "text": [
            "Loss:  1.6943411827087402 \n",
            "Accuracy:  0.6944444179534912 \n",
            "F-score:  0.6944444444444444\n"
          ],
          "name": "stdout"
        }
      ]
    },
    {
      "cell_type": "code",
      "metadata": {
        "id": "sCm4ZkzvyUJC"
      },
      "source": [
        "losses = []\n",
        "accuracies = []\n",
        "for i in history:\n",
        "    losses.append(i['loss'])\n",
        "    accuracies.append(i['accuracy'])\n",
        "\n",
        "def plot(var, title):\n",
        "    plt.plot(var, '-x')\n",
        "    plt.title(title)"
      ],
      "execution_count": null,
      "outputs": []
    },
    {
      "cell_type": "code",
      "metadata": {
        "id": "s7xyuso0-xLu",
        "outputId": "af909766-17fe-434c-b15b-13854d7655bc",
        "colab": {
          "base_uri": "https://localhost:8080/",
          "height": 281
        }
      },
      "source": [
        "plot(losses, 'Losses')"
      ],
      "execution_count": null,
      "outputs": [
        {
          "output_type": "display_data",
          "data": {
            "image/png": "[encoded data removed]",
            "text/plain": [
              "<Figure size 432x288 with 1 Axes>"
            ]
          },
          "metadata": {
            "tags": [],
            "needs_background": "light"
          }
        }
      ]
    },
    {
      "cell_type": "code",
      "metadata": {
        "id": "igN1f-3D-wUG",
        "outputId": "e964faf0-a393-49bf-8081-b9c100b0afa9",
        "colab": {
          "base_uri": "https://localhost:8080/",
          "height": 281
        }
      },
      "source": [
        "plot(accuracies, 'Accuracies')"
      ],
      "execution_count": null,
      "outputs": [
        {
          "output_type": "display_data",
          "data": {
            "image/png": "[encoded data removed]",
            "text/plain": [
              "<Figure size 432x288 with 1 Axes>"
            ]
          },
          "metadata": {
            "tags": [],
            "needs_background": "light"
          }
        }
      ]
    },
    {
      "cell_type": "markdown",
      "metadata": {
        "id": "8WRRCX-myfH9"
      },
      "source": [
        "## deepC"
      ]
    },
    {
      "cell_type": "code",
      "metadata": {
        "id": "FeQ4YNccygM7"
      },
      "source": [
        "torch.save(model, '/content/speechEmotion_stft_stdz.pth')"
      ],
      "execution_count": null,
      "outputs": []
    },
    {
      "cell_type": "code",
      "metadata": {
        "id": "iYmIpa9Nyfge"
      },
      "source": [
        "torch.load(model, '/content/speechEmotion_mel.pth')"
      ],
      "execution_count": null,
      "outputs": []
    },
    {
      "cell_type": "code",
      "metadata": {
        "id": "iC220Ne-yxlF"
      },
      "source": [
        "dummy = train_dset[0][0].unsqueeze(0)\n",
        "torch.onnx.export(model, dummy, 'speechEmotion_mel.onnx')\n",
        "\n",
        "!deepCC speechEmotion_mel.onnx"
      ],
      "execution_count": null,
      "outputs": []
    },
    {
      "cell_type": "code",
      "metadata": {
        "id": "4PgkOf5Sy8Y2"
      },
      "source": [
        "sample = test_dtest.iloc[0]\n",
        "np.savetxt('sample.data', sample)\n",
        "\n",
        "!speechEmotion_mfccs_deepC/speechEmotion_mfccs.exe sample.data\n",
        "\n",
        "nn_out = np.loadtxt('dense_19.out')\n",
        "\n",
        "print(\"Actual: \", ytest.iloc[0].status)\n",
        "\n",
        "print(\"Prediction: \", int(nn_out))"
      ],
      "execution_count": null,
      "outputs": []
    }
  ]
}